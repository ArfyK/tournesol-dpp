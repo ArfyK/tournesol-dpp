{
 "cells": [
  {
   "cell_type": "markdown",
   "id": "b2391bd4-a4c8-493c-b719-d4ecc84bba31",
   "metadata": {},
   "source": [
    "# Install requirements"
   ]
  },
  {
   "cell_type": "markdown",
   "id": "51f8ac73-99f8-4d0e-8bc5-31b47e2eaa2b",
   "metadata": {},
   "source": [
    "`pip install -r requirements.txt`"
   ]
  },
  {
   "cell_type": "markdown",
   "id": "5792a83b-081d-4c19-86b1-d67299dddbcb",
   "metadata": {},
   "source": [
    "# Data set up "
   ]
  },
  {
   "cell_type": "markdown",
   "id": "1913cd20-43ff-4696-976b-8dae2705a650",
   "metadata": {},
   "source": [
    "## Load existing dataset"
   ]
  },
  {
   "cell_type": "code",
   "execution_count": 1,
   "id": "81269d9f-76ba-41e5-a984-169edd7633d9",
   "metadata": {},
   "outputs": [],
   "source": [
    "import pandas as pd\n",
    "df = pd.read_csv('tournesol_scores_above_20_2024-03-15.csv')"
   ]
  },
  {
   "cell_type": "markdown",
   "id": "ecd60b9e-9712-427b-bc0d-3f2c490c973d",
   "metadata": {},
   "source": [
    "## Create dataset"
   ]
  },
  {
   "cell_type": "markdown",
   "id": "fba7ffe1-a581-4a5f-b950-f565fd7bb8dd",
   "metadata": {},
   "source": [
    "Download videos scores"
   ]
  },
  {
   "cell_type": "code",
   "execution_count": 2,
   "id": "c6318ff0-5984-4092-b3c8-f3a71646916a",
   "metadata": {},
   "outputs": [],
   "source": [
    "import io\n",
    "import zipfile\n",
    "\n",
    "import requests\n",
    "import pandas as pd\n",
    "\n",
    "#Download tournesol scores\n",
    "response = requests.get(\"https://api.tournesol.app/exports/all\")\n",
    "zip_file = zipfile.ZipFile(io.BytesIO(response.content))\n",
    "collective_scores = pd.read_csv(zip_file.open(\"collective_criteria_scores.csv\"))\n",
    "\n",
    "#Requests youtube metadata : publication date, title and channel\n",
    "from dataset import build_dataset\n",
    "df = build_dataset(collective_scores) #only keeps videos with a tournesol score above 20\n",
    "\n",
    "#save dataframe\n",
    "import datetime\n",
    "df.to_csv('tournesol_scores_above_20_'+datetime.date.today().isoformat()+'.csv')"
   ]
  },
  {
   "cell_type": "markdown",
   "id": "43541542-38be-43fb-8188-49b6298859ee",
   "metadata": {},
   "source": [
    "# Tests set up"
   ]
  },
  {
   "cell_type": "code",
   "execution_count": 2,
   "id": "df4f724b-9889-4356-860d-27c0ea4de588",
   "metadata": {},
   "outputs": [
    {
     "name": "stdout",
     "output_type": "stream",
     "text": [
      "L = Phi.T Phi was computed: Phi (dxN) with d>=N\n"
     ]
    }
   ],
   "source": [
    "#Test parameters\n",
    "bundle_size = 4\n",
    "recent_videos_proportion = 0.75\n",
    "\n",
    "recent_videos_to_sample = int(bundle_size * recent_videos_proportion)\n",
    "old_videos_to_sample = int(bundle_size * (1 - recent_videos_proportion))\n",
    "\n",
    "recent_videos_max_age_in_days = 21\n",
    "\n",
    "#Computes the age of each video\n",
    "import datetime\n",
    "\n",
    "from utils import get_age_in_days, construct_L_Ensemble\n",
    "\n",
    "today = datetime.datetime.today()\n",
    "df['age_in_days'] = df.apply(lambda x: get_age_in_days(x, today), axis=\"columns\")\n",
    "\n",
    "#Construct L-Ensemble\n",
    "power = 2.8 #Model parameters\n",
    "discount = 7.3\n",
    "caracteristic_time = 31\n",
    "\n",
    "dpp = construct_L_Ensemble(df, power, discount, caracteristic_time)\n",
    "\n",
    "#load preferences results\n",
    "try:\n",
    "    preferences_results_series = pd.read_csv('preferences_results.csv')\n",
    "except FileNotFoundError:\n",
    "    preferences_results_series = preferences_results_series = pd.Series(data={'dpp':0, 'uniform':0}) "
   ]
  },
  {
   "cell_type": "markdown",
   "id": "d6bb4cfa-6cac-40fe-b9fd-5fb37320938f",
   "metadata": {},
   "source": [
    "# Sample and display bundles"
   ]
  },
  {
   "cell_type": "code",
   "execution_count": 4,
   "id": "550550f7-487b-4ee5-91ce-5c231ac8668f",
   "metadata": {},
   "outputs": [
    {
     "ename": "NameError",
     "evalue": "name 'random' is not defined",
     "output_type": "error",
     "traceback": [
      "\u001b[0;31m---------------------------------------------------------------------------\u001b[0m",
      "\u001b[0;31mNameError\u001b[0m                                 Traceback (most recent call last)",
      "Cell \u001b[0;32mIn[4], line 3\u001b[0m\n\u001b[1;32m      1\u001b[0m \u001b[38;5;66;03m#Display bundles\u001b[39;00m\n\u001b[1;32m      2\u001b[0m \u001b[38;5;28;01mfrom\u001b[39;00m \u001b[38;5;21;01mwidget_layout\u001b[39;00m \u001b[38;5;28;01mimport\u001b[39;00m construct_bundles_widget\n\u001b[0;32m----> 3\u001b[0m \u001b[43mconstruct_bundles_widget\u001b[49m\u001b[43m(\u001b[49m\u001b[43mdf\u001b[49m\u001b[43m,\u001b[49m\u001b[43m \u001b[49m\u001b[43mdpp\u001b[49m\u001b[43m,\u001b[49m\u001b[43m \u001b[49m\u001b[43mpreferences_results_series\u001b[49m\u001b[43m,\u001b[49m\u001b[43m \u001b[49m\u001b[43mrecent_videos_to_sample\u001b[49m\u001b[43m,\u001b[49m\u001b[43m \u001b[49m\u001b[43mold_videos_to_sample\u001b[49m\u001b[43m,\u001b[49m\u001b[43m \u001b[49m\u001b[43mbundle_size\u001b[49m\u001b[43m)\u001b[49m\n",
      "File \u001b[0;32m~/tournesol/dpp/widget_layout.py:108\u001b[0m, in \u001b[0;36mconstruct_bundles_widget\u001b[0;34m(df, dpp, preferences_results_series, recent_videos_to_sample, old_videos_to_sample, bundle_size)\u001b[0m\n\u001b[1;32m    106\u001b[0m vb \u001b[38;5;241m=\u001b[39m widgets\u001b[38;5;241m.\u001b[39mVBox()\n\u001b[1;32m    107\u001b[0m vb\u001b[38;5;241m.\u001b[39mlayout\u001b[38;5;241m.\u001b[39malign_items \u001b[38;5;241m=\u001b[39m \u001b[38;5;124m\"\u001b[39m\u001b[38;5;124mcenter\u001b[39m\u001b[38;5;124m\"\u001b[39m\n\u001b[0;32m--> 108\u001b[0m \u001b[38;5;28;01mif\u001b[39;00m \u001b[38;5;28mbool\u001b[39m(\u001b[43mrandom\u001b[49m\u001b[38;5;241m.\u001b[39mgetrandbits(\u001b[38;5;241m1\u001b[39m)):\n\u001b[1;32m    109\u001b[0m     vb\u001b[38;5;241m.\u001b[39mchildren \u001b[38;5;241m=\u001b[39m [dpp_hb, uniform_hb]\n\u001b[1;32m    110\u001b[0m \u001b[38;5;28;01melse\u001b[39;00m:\n",
      "\u001b[0;31mNameError\u001b[0m: name 'random' is not defined"
     ]
    }
   ],
   "source": [
    "#Display bundles\n",
    "from widget_layout import construct_bundles_widget\n",
    "construct_bundles_widget(df, dpp, preferences_results_series, recent_videos_to_sample, old_videos_to_sample, bundle_size)\n"
   ]
  },
  {
   "cell_type": "code",
   "execution_count": 7,
   "id": "c086ed93-596d-463a-96c0-2658983d66b6",
   "metadata": {},
   "outputs": [
    {
     "data": {
      "text/plain": [
       "dpp        2\n",
       "uniform    2\n",
       "dtype: int64"
      ]
     },
     "execution_count": 7,
     "metadata": {},
     "output_type": "execute_result"
    }
   ],
   "source": [
    "preferences_results_series"
   ]
  },
  {
   "cell_type": "code",
   "execution_count": null,
   "id": "94319301-1733-4834-bcb8-02927c186e1c",
   "metadata": {},
   "outputs": [],
   "source": [
    "#Save preferences\n",
    "preferences_results_series.to_csv('preferences_results.csv')"
   ]
  }
 ],
 "metadata": {
  "kernelspec": {
   "display_name": "Python 3 (ipykernel)",
   "language": "python",
   "name": "python3"
  },
  "language_info": {
   "codemirror_mode": {
    "name": "ipython",
    "version": 3
   },
   "file_extension": ".py",
   "mimetype": "text/x-python",
   "name": "python",
   "nbconvert_exporter": "python",
   "pygments_lexer": "ipython3",
   "version": "3.8.10"
  }
 },
 "nbformat": 4,
 "nbformat_minor": 5
}

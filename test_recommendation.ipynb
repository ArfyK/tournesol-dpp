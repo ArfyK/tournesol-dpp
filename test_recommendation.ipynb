{
 "cells": [
  {
   "cell_type": "markdown",
   "id": "b2391bd4-a4c8-493c-b719-d4ecc84bba31",
   "metadata": {},
   "source": [
    "# Install requirements"
   ]
  },
  {
   "cell_type": "markdown",
   "id": "51f8ac73-99f8-4d0e-8bc5-31b47e2eaa2b",
   "metadata": {},
   "source": [
    "`pip install -r requirements.txt`"
   ]
  },
  {
   "cell_type": "markdown",
   "id": "5792a83b-081d-4c19-86b1-d67299dddbcb",
   "metadata": {},
   "source": [
    "# Data set up "
   ]
  },
  {
   "cell_type": "markdown",
   "id": "1913cd20-43ff-4696-976b-8dae2705a650",
   "metadata": {},
   "source": [
    "## Load existing dataset"
   ]
  },
  {
   "cell_type": "code",
   "execution_count": 1,
   "id": "81269d9f-76ba-41e5-a984-169edd7633d9",
   "metadata": {},
   "outputs": [],
   "source": [
    "import pandas as pd\n",
    "df = pd.read_csv('tournesol_scores_above_20_2024-03-15.csv')"
   ]
  },
  {
   "cell_type": "markdown",
   "id": "ecd60b9e-9712-427b-bc0d-3f2c490c973d",
   "metadata": {},
   "source": [
    "## Create dataset"
   ]
  },
  {
   "cell_type": "markdown",
   "id": "fba7ffe1-a581-4a5f-b950-f565fd7bb8dd",
   "metadata": {},
   "source": [
    "Download videos scores"
   ]
  },
  {
   "cell_type": "code",
   "execution_count": 2,
   "id": "c6318ff0-5984-4092-b3c8-f3a71646916a",
   "metadata": {},
   "outputs": [],
   "source": [
    "import io\n",
    "import zipfile\n",
    "\n",
    "import requests\n",
    "import pandas as pd\n",
    "\n",
    "#Download tournesol scores\n",
    "response = requests.get(\"https://api.tournesol.app/exports/all\")\n",
    "zip_file = zipfile.ZipFile(io.BytesIO(response.content))\n",
    "collective_scores = pd.read_csv(zip_file.open(\"collective_criteria_scores.csv\"))\n",
    "\n",
    "#Requests youtube metadata : publication date, title and channel\n",
    "from dataset import build_dataset\n",
    "df = build_dataset(collective_scores) #only keeps videos with a tournesol score above 20\n",
    "\n",
    "#save dataframe\n",
    "import datetime\n",
    "df.to_csv('tournesol_scores_above_20_'+datetime.date.today().isoformat()+'.csv')"
   ]
  },
  {
   "cell_type": "markdown",
   "id": "43541542-38be-43fb-8188-49b6298859ee",
   "metadata": {},
   "source": [
    "# Tests set up"
   ]
  },
  {
   "cell_type": "code",
   "execution_count": 47,
   "id": "df4f724b-9889-4356-860d-27c0ea4de588",
   "metadata": {},
   "outputs": [
    {
     "name": "stdout",
     "output_type": "stream",
     "text": [
      "L = Phi.T Phi was computed: Phi (dxN) with d>=N\n"
     ]
    }
   ],
   "source": [
    "#Test parameters\n",
    "bundle_size = 4\n",
    "recent_videos_proportion = 0.75\n",
    "\n",
    "recent_videos_to_sample = int(bundle_size * recent_videos_proportion)\n",
    "old_videos_to_sample = int(bundle_size * (1 - recent_videos_proportion))\n",
    "\n",
    "recent_videos_max_age_in_days = 21\n",
    "\n",
    "#Computes the age of each video\n",
    "import datetime\n",
    "\n",
    "from utils import get_age_in_days, construct_L_Ensemble\n",
    "\n",
    "today = datetime.datetime.today()\n",
    "df['age_in_days'] = df.apply(lambda x: get_age_in_days(x, today), axis=\"columns\")\n",
    "\n",
    "#Construct L-Ensemble\n",
    "power = 2.8 #Model parameters\n",
    "discount = 7.3\n",
    "caracteristic_time = 31\n",
    "\n",
    "dpp = construct_L_Ensemble(df, power, discount, caracteristic_time)\n",
    "\n",
    "#load preferences results\n",
    "try:\n",
    "    preferences_results_series = pd.read_csv('preferences_results.csv')\n",
    "except FileNotFoundError:\n",
    "    preferences_results_series = preferences_results_series = pd.Series(data={'dpp':0, 'uniform':0}) "
   ]
  },
  {
   "cell_type": "markdown",
   "id": "d6bb4cfa-6cac-40fe-b9fd-5fb37320938f",
   "metadata": {},
   "source": [
    "# Sample and display bundles"
   ]
  },
  {
   "cell_type": "code",
   "execution_count": 26,
   "id": "68c62581-368b-4712-a339-43feacd54bd6",
   "metadata": {},
   "outputs": [],
   "source": [
    "pd.set_option('display.max_colwidth', 999) #ensures the display of whole video titles\n",
    "\n",
    "#Uniform sampling\n",
    "recent_videos_sample = df.loc[df['age_in_days']<=21].sample(n=recent_videos_to_sample, replace=False)\n",
    "old_videos_sample = df.loc[df['age_in_days']<=21].sample(n=old_videos_to_sample, replace=False)\n",
    "\n",
    "uniform_sample = pd.concat([recent_videos_sample, old_videos_sample])\n",
    "\n",
    "#DPP sampling\n",
    "dpp_sample = df.iloc[dpp.sample_exact_k_dpp(size=bundle_size)]\n",
    "\n"
   ]
  },
  {
   "cell_type": "code",
   "execution_count": 82,
   "id": "31f2de38-aef3-4334-b772-90b79d8d3ee2",
   "metadata": {},
   "outputs": [],
   "source": [
    "import random\n",
    "\n",
    "import requests\n",
    "import ipywidgets as widgets\n",
    "\n",
    "from IPython.display import display\n",
    "from utils import make_box_for_grid\n",
    "\n",
    "def increment_preferences_results(button, preferences_results_series, bundle_type, df, dpp):\n",
    "    preferences_results_series[bundle_type] += 1\n",
    "    construct_bundles_widget(df, dpp, preferences_results_series)\n",
    "    \n",
    "\n",
    "def download_thumbnails(id_series, path):\n",
    "    for video_id in id_series:\n",
    "        thumbnail_url = \"https://i.ytimg.com/vi/\" + video_id + \"/mqdefault.jpg\"\n",
    "        response = requests.get(thumbnail_url)\n",
    "        open(path + video_id + '.jpg', 'wb').write(response.content)\n",
    "\n",
    "def bundle_hbox(sample_df, bundle_type):\n",
    "    boxes = []\n",
    "    for video_id in sample_df['video']:\n",
    "        video_title = sample_df.loc[sample_df['video']==video_id, 'title'].to_string(index=False)\n",
    "        video_channel = sample_df.loc[sample_df['video']==video_id, 'channel'].to_string(index=False)\n",
    "        \n",
    "        file = open('thumbnails/'+video_id+'.jpg', 'rb')\n",
    "        image = widgets.Image(value=file.read())\n",
    "        image.layout.object_fit = 'contain'  \n",
    "        \n",
    "        boxes.append(make_box_for_grid(image, video_title, video_channel))\n",
    "                             \n",
    "    button = widgets.Button(description=\"Preferred bundle\")\n",
    "    button.on_click(lambda button: increment_preferences_results(button, preferences_results_series, bundle_type, df, dpp))\n",
    "    boxes.append(button)\n",
    "\n",
    "    hbox_layout = widgets.Layout()\n",
    "    hbox_layout.width = '100%'\n",
    "    hbox_layout.justify_content = 'space-around'\n",
    "    \n",
    "    hb = widgets.HBox()\n",
    "    hb.layout = hbox_layout\n",
    "    hb.children = boxes\n",
    "    return hb\n",
    "    \n",
    "def construct_bundles_widget(df, dpp, preferences_results_series):\n",
    "    #Uniform sampling\n",
    "    recent_videos_sample = df.loc[df['age_in_days']<=21].sample(n=recent_videos_to_sample, replace=False)\n",
    "    old_videos_sample = df.loc[df['age_in_days']<=21].sample(n=old_videos_to_sample, replace=False)\n",
    "\n",
    "    uniform_sample = pd.concat([recent_videos_sample, old_videos_sample])\n",
    "\n",
    "    #DPP sampling\n",
    "    dpp_sample = df.iloc[dpp.sample_exact_k_dpp(size=bundle_size)]\n",
    "\n",
    "    #Download thumbnails in the thumbnails directory\n",
    "    download_thumbnails(uniform_sample['video'], 'thumbnails/')\n",
    "    download_thumbnails(dpp_sample['video'], 'thumbnails/')\n",
    "\n",
    "    #Widget layout\n",
    "    uniform_hb = bundle_hbox(uniform_sample, 'uniform')\n",
    "    dpp_hb = bundle_hbox(dpp_sample, 'dpp')\n",
    "        \n",
    "    # Randomly compose into a vertical box \n",
    "    vb = widgets.VBox()\n",
    "    vb.layout.align_items = \"center\"\n",
    "    if bool(random.getrandbits(1)):\n",
    "        vb.children = [dpp_hb, uniform_hb]\n",
    "    else:\n",
    "        vb.children = [uniform_hb, dpp_hb]\n",
    "    display(vb)\n",
    "\n"
   ]
  },
  {
   "cell_type": "code",
   "execution_count": 83,
   "id": "550550f7-487b-4ee5-91ce-5c231ac8668f",
   "metadata": {},
   "outputs": [
    {
     "data": {
      "application/vnd.jupyter.widget-view+json": {
       "model_id": "8555a8e3d08340dc9f0ce6d140b597c0",
       "version_major": 2,
       "version_minor": 0
      },
      "text/plain": [
       "VBox(children=(HBox(children=(VBox(children=(Box(children=(Image(value=b'\\xff\\xd8\\xff\\xe0\\x00\\x10JFIF\\x00\\x01\\…"
      ]
     },
     "metadata": {},
     "output_type": "display_data"
    }
   ],
   "source": [
    "#Display bundles\n",
    "\n",
    "construct_bundles_widget(df, dpp, preferences_results_series)\n"
   ]
  },
  {
   "cell_type": "code",
   "execution_count": 85,
   "id": "c086ed93-596d-463a-96c0-2658983d66b6",
   "metadata": {},
   "outputs": [
    {
     "data": {
      "text/plain": [
       "dpp        18\n",
       "uniform    11\n",
       "dtype: int64"
      ]
     },
     "execution_count": 85,
     "metadata": {},
     "output_type": "execute_result"
    }
   ],
   "source": [
    "preferences_results_series"
   ]
  },
  {
   "cell_type": "code",
   "execution_count": null,
   "id": "94319301-1733-4834-bcb8-02927c186e1c",
   "metadata": {},
   "outputs": [],
   "source": [
    "#Save preferences\n",
    "preferences_results_series.to_csv('preferences_results.csv')"
   ]
  }
 ],
 "metadata": {
  "kernelspec": {
   "display_name": "Python 3 (ipykernel)",
   "language": "python",
   "name": "python3"
  },
  "language_info": {
   "codemirror_mode": {
    "name": "ipython",
    "version": 3
   },
   "file_extension": ".py",
   "mimetype": "text/x-python",
   "name": "python",
   "nbconvert_exporter": "python",
   "pygments_lexer": "ipython3",
   "version": "3.8.10"
  }
 },
 "nbformat": 4,
 "nbformat_minor": 5
}

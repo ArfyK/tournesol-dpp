{
 "cells": [
  {
   "cell_type": "markdown",
   "id": "5792a83b-081d-4c19-86b1-d67299dddbcb",
   "metadata": {},
   "source": [
    "# Data set up "
   ]
  },
  {
   "cell_type": "markdown",
   "id": "1913cd20-43ff-4696-976b-8dae2705a650",
   "metadata": {},
   "source": [
    "## Load existing dataset"
   ]
  },
  {
   "cell_type": "code",
   "execution_count": 1,
   "id": "81269d9f-76ba-41e5-a984-169edd7633d9",
   "metadata": {},
   "outputs": [],
   "source": [
    "import pandas as pd\n",
    "df = pd.read_csv('tournesol_scores_above_20_2024-03-15.csv')"
   ]
  },
  {
   "cell_type": "markdown",
   "id": "ecd60b9e-9712-427b-bc0d-3f2c490c973d",
   "metadata": {},
   "source": [
    "## Create dataset"
   ]
  },
  {
   "cell_type": "markdown",
   "id": "fba7ffe1-a581-4a5f-b950-f565fd7bb8dd",
   "metadata": {},
   "source": [
    "Download videos scores"
   ]
  },
  {
   "cell_type": "code",
   "execution_count": 12,
   "id": "c6318ff0-5984-4092-b3c8-f3a71646916a",
   "metadata": {},
   "outputs": [],
   "source": [
    "import io\n",
    "import zipfile\n",
    "\n",
    "import requests\n",
    "import pandas as pd\n",
    "\n",
    "response = requests.get(\"https://api.tournesol.app/exports/all\")\n",
    "zip_file = zipfile.ZipFile(io.BytesIO(response.content))\n",
    "collective_scores = pd.read_csv(zip_file.open(\"collective_criteria_scores.csv\"))"
   ]
  },
  {
   "cell_type": "markdown",
   "id": "dc62f160-d731-45b9-971a-8ce1ed6a6904",
   "metadata": {},
   "source": [
    "Requests youtube metadata : publication date, title and channel"
   ]
  },
  {
   "cell_type": "code",
   "execution_count": 14,
   "id": "127aa8ee-eac5-4767-8738-76e822a54ea1",
   "metadata": {},
   "outputs": [],
   "source": [
    "from dataset import build_dataset\n",
    "df = build_dataset(collective_scores) #only keeps videos with a tournesol score above 20"
   ]
  },
  {
   "cell_type": "markdown",
   "id": "804a3bf2-a808-46ef-ae12-caba1fd307f6",
   "metadata": {},
   "source": [
    "Save the dataframe"
   ]
  },
  {
   "cell_type": "code",
   "execution_count": 16,
   "id": "0e0bc0c6-4327-416b-a531-d12174fe7c47",
   "metadata": {},
   "outputs": [],
   "source": [
    "import datetime\n",
    "df.to_csv('tournesol_scores_above_20_'+datetime.date.today().isoformat()+'.csv')\n"
   ]
  },
  {
   "cell_type": "markdown",
   "id": "5ca23754-beb8-4c88-b3ad-eec50afffe85",
   "metadata": {},
   "source": [
    "# Uniform Recommendation"
   ]
  },
  {
   "cell_type": "markdown",
   "id": "49609e83-f188-4201-becc-5914ae2eedb3",
   "metadata": {},
   "source": [
    "Test parameters"
   ]
  },
  {
   "cell_type": "code",
   "execution_count": 2,
   "id": "df4f724b-9889-4356-860d-27c0ea4de588",
   "metadata": {},
   "outputs": [],
   "source": [
    "bundle_size = 4\n",
    "recent_videos_proportion = 0.75\n",
    "\n",
    "recent_videos_to_sample = int(bundle_size * recent_videos_proportion)\n",
    "old_videos_to_sample = int(bundle_size * (1 - recent_videos_proportion))\n",
    "\n",
    "recent_videos_max_age_in_days = 21"
   ]
  },
  {
   "cell_type": "markdown",
   "id": "b75b0660-1453-48c2-8e37-c8df8df23344",
   "metadata": {},
   "source": [
    "Computes the age of each video"
   ]
  },
  {
   "cell_type": "code",
   "execution_count": 3,
   "id": "b04fe0db-f00a-4103-9155-e2ff20cf9e00",
   "metadata": {
    "scrolled": true
   },
   "outputs": [],
   "source": [
    "import datetime\n",
    "\n",
    "from utils import get_age_in_days\n",
    "\n",
    "today = datetime.datetime.today()\n",
    "df['age_in_days'] = df.apply(lambda x: get_age_in_days(x, today), axis=\"columns\")"
   ]
  },
  {
   "cell_type": "markdown",
   "id": "d6bb4cfa-6cac-40fe-b9fd-5fb37320938f",
   "metadata": {},
   "source": [
    "Uniformly sample recent and old videos"
   ]
  },
  {
   "cell_type": "code",
   "execution_count": 4,
   "id": "68c62581-368b-4712-a339-43feacd54bd6",
   "metadata": {
    "scrolled": true
   },
   "outputs": [],
   "source": [
    "recent_videos_sample = df.loc[df['age_in_days']<=21].sample(n=recent_videos_to_sample, replace=False)\n",
    "old_videos_sample = df.loc[df['age_in_days']<=21].sample(n=old_videos_to_sample, replace=False)\n",
    "\n",
    "uniform_sample = pd.concat([recent_videos_sample, old_videos_sample])"
   ]
  },
  {
   "cell_type": "markdown",
   "id": "8ebc1546-b65b-4585-ad05-5f4ca4de478b",
   "metadata": {},
   "source": [
    "Download thumbnails in the thumbnails directory"
   ]
  },
  {
   "cell_type": "code",
   "execution_count": 5,
   "id": "60edd30e-1b04-4056-98e8-42ba45ec9005",
   "metadata": {},
   "outputs": [],
   "source": [
    "import io\n",
    "\n",
    "import requests\n",
    "import ipywidgets as widgets\n",
    "\n",
    "thumbnail_list = []\n",
    "\n",
    "for id in uniform_sample['video']:\n",
    "    thumbnail_url = \"https://i.ytimg.com/vi/\" + id + \"/mqdefault.jpg\"\n",
    "    response = requests.get(thumbnail_url)\n",
    "    open('thumbnails/'+id+'.jpg', 'wb').write(response.content)"
   ]
  },
  {
   "cell_type": "markdown",
   "id": "aefef07a-9aa6-491e-8eff-77684647f00e",
   "metadata": {},
   "source": [
    "Display images"
   ]
  },
  {
   "cell_type": "code",
   "execution_count": 8,
   "id": "f924e366-1e50-42e5-a169-be2c52618531",
   "metadata": {
    "scrolled": true
   },
   "outputs": [
    {
     "data": {
      "application/vnd.jupyter.widget-view+json": {
       "model_id": "091e6b5a9a33489eacd72c72a98cc333",
       "version_major": 2,
       "version_minor": 0
      },
      "text/plain": [
       "HBox(children=(VBox(children=(Box(children=(Image(value=b'\\xff\\xd8\\xff\\xe0\\x00\\x10JFIF\\x00\\x01\\x01\\x00\\x00\\x01…"
      ]
     },
     "execution_count": 8,
     "metadata": {},
     "output_type": "execute_result"
    }
   ],
   "source": [
    "from utils import make_box_for_grid\n",
    "\n",
    "boxes = []\n",
    "pd.set_option('display.max_colwidth', 999)\n",
    "for video_id in uniform_sample['video']:\n",
    "    video_title = uniform_sample.loc[uniform_sample['video']==video_id, 'title'].to_string(index=False)\n",
    "    video_channel = uniform_sample.loc[uniform_sample['video']==video_id, 'channel'].to_string(index=False)\n",
    "    \n",
    "    file = open('thumbnails/'+video_id+'.jpg', 'rb')\n",
    "    image = widgets.Image(value=file.read())\n",
    "    image.layout.object_fit = 'contain'  \n",
    "    \n",
    "    boxes.append(make_box_for_grid(image, video_title, video_channel))\n",
    "\n",
    "hbox_layout = widgets.Layout()\n",
    "hbox_layout.width = '100%'\n",
    "hbox_layout.justify_content = 'space-around'\n",
    "\n",
    "hb = widgets.HBox()\n",
    "hb.layout = hbox_layout\n",
    "hb.children = boxes\n",
    "hb\n",
    "\n"
   ]
  },
  {
   "cell_type": "code",
   "execution_count": 85,
   "id": "f710d517-633d-4c50-9d1e-2f31dc04981a",
   "metadata": {},
   "outputs": [
    {
     "name": "stdout",
     "output_type": "stream",
     "text": [
      "🦏 PATRON INCOGNITO: EMPLOYÉS PIÉGÉS OU PDG RIDICULISÉS ?\n"
     ]
    }
   ],
   "source": []
  }
 ],
 "metadata": {
  "kernelspec": {
   "display_name": "Python 3 (ipykernel)",
   "language": "python",
   "name": "python3"
  },
  "language_info": {
   "codemirror_mode": {
    "name": "ipython",
    "version": 3
   },
   "file_extension": ".py",
   "mimetype": "text/x-python",
   "name": "python",
   "nbconvert_exporter": "python",
   "pygments_lexer": "ipython3",
   "version": "3.8.10"
  }
 },
 "nbformat": 4,
 "nbformat_minor": 5
}

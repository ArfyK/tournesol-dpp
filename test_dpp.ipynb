{
 "cells": [
  {
   "cell_type": "code",
   "execution_count": 73,
   "id": "fd7f7189-e8c6-4dc9-bfaf-b4384d62347f",
   "metadata": {},
   "outputs": [
    {
     "name": "stdout",
     "output_type": "stream",
     "text": [
      "L_dual = Phi Phi.T was computed: Phi (dxN) with d<N\n"
     ]
    }
   ],
   "source": [
    "import numpy as np\n",
    "from dppy.finite_dpps import FiniteDPP\n",
    "\n",
    "r, N = 4, 10 #r number of features and N number of videos\n",
    "\n",
    "#L-Ensemble of rank r that is not a projection DPP\n",
    "Phi = np.random.randn(r, N)\n",
    "DPP_L = FiniteDPP('likelihood', **{'L_gram_factor': Phi})\n",
    "\n",
    "#Projection DPP with the corresponding previous eigenvectors\n",
    "L = np.matmul(np.transpose(Phi), Phi)\n",
    "e_vals, e_vecs = np.linalg.eigh(L)\n",
    "proj_DPP = FiniteDPP('correlation', projection=True,\n",
    "                    **{'K_eig_dec': (np.concatenate((np.zeros(N-r),np.ones(r))), e_vecs)})"
   ]
  },
  {
   "cell_type": "code",
   "execution_count": 50,
   "id": "145feef2-72cf-43f4-8c8e-6a391cda5b55",
   "metadata": {},
   "outputs": [
    {
     "name": "stdout",
     "output_type": "stream",
     "text": [
      "[5, 9, 6]\n",
      "[0, 9, 1, 4]\n",
      "[9, 4]\n",
      "[9, 1, 3, 6]\n",
      "[6, 1, 0]\n",
      "[5, 6, 4]\n",
      "[8, 3, 0]\n",
      "[5, 0, 2]\n",
      "[1, 9, 4]\n",
      "[4, 9, 1]\n"
     ]
    }
   ],
   "source": [
    "for _ in range(10):\n",
    "    print(DPP_L.sample_exact())"
   ]
  },
  {
   "cell_type": "code",
   "execution_count": 81,
   "id": "113c1be2-dad0-4560-8a54-0a4de58384f5",
   "metadata": {},
   "outputs": [
    {
     "name": "stdout",
     "output_type": "stream",
     "text": [
      "[5, 6, 0, 1]\n",
      "[7, 2, 5, 1]\n",
      "[0, 6, 7, 3]\n",
      "[3, 4, 7, 0]\n",
      "[8, 2, 3, 7]\n",
      "[1, 7, 3, 0]\n",
      "[2, 1, 0, 6]\n",
      "[6, 0, 3, 4]\n",
      "[1, 0, 2, 6]\n",
      "[1, 6, 2, 0]\n"
     ]
    }
   ],
   "source": [
    "for _ in range(10):\n",
    "    print(proj_DPP.sample_exact())"
   ]
  }
 ],
 "metadata": {
  "kernelspec": {
   "display_name": "Python 3 (ipykernel)",
   "language": "python",
   "name": "python3"
  },
  "language_info": {
   "codemirror_mode": {
    "name": "ipython",
    "version": 3
   },
   "file_extension": ".py",
   "mimetype": "text/x-python",
   "name": "python",
   "nbconvert_exporter": "python",
   "pygments_lexer": "ipython3",
   "version": "3.8.10"
  }
 },
 "nbformat": 4,
 "nbformat_minor": 5
}

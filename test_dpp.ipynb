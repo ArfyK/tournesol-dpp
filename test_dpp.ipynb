{
 "cells": [
  {
   "cell_type": "code",
   "execution_count": 2,
   "id": "fd7f7189-e8c6-4dc9-bfaf-b4384d62347f",
   "metadata": {},
   "outputs": [
    {
     "name": "stdout",
     "output_type": "stream",
     "text": [
      "L_dual = Phi Phi.T was computed: Phi (dxN) with d<N\n"
     ]
    }
   ],
   "source": [
    "import numpy as np\n",
    "from dppy.finite_dpps import FiniteDPP\n",
    "\n",
    "r, N = 4, 10 #r number of features and N number of videos\n",
    "\n",
    "#L-Ensemble of rank r that is not a projection DPP\n",
    "Phi = np.random.randn(r, N)\n",
    "DPP_L = FiniteDPP('likelihood', **{'L_gram_factor': Phi})\n",
    "\n",
    "#Projection DPP with the corresponding previous eigenvectors\n",
    "L = np.matmul(np.transpose(Phi), Phi)\n",
    "e_vals, e_vecs = np.linalg.eigh(L)\n",
    "proj_DPP = FiniteDPP('correlation', projection=True,\n",
    "                    **{'K_eig_dec': (np.concatenate((np.zeros(N-r),np.ones(r))), e_vecs)})"
   ]
  },
  {
   "cell_type": "code",
   "execution_count": 3,
   "id": "145feef2-72cf-43f4-8c8e-6a391cda5b55",
   "metadata": {},
   "outputs": [
    {
     "name": "stdout",
     "output_type": "stream",
     "text": [
      "[9, 7]\n",
      "[9, 7, 8]\n",
      "[3, 2, 8]\n",
      "[4, 5, 8, 2]\n",
      "[0, 8, 7]\n",
      "[8, 9, 6]\n",
      "[0, 4, 5]\n",
      "[8, 4, 0, 9]\n",
      "[9, 4]\n",
      "[9, 0]\n"
     ]
    }
   ],
   "source": [
    "for _ in range(10):\n",
    "    print(DPP_L.sample_exact())"
   ]
  },
  {
   "cell_type": "code",
   "execution_count": 4,
   "id": "113c1be2-dad0-4560-8a54-0a4de58384f5",
   "metadata": {},
   "outputs": [
    {
     "name": "stdout",
     "output_type": "stream",
     "text": [
      "[9, 7, 0, 1]\n",
      "[0, 1, 9, 8]\n",
      "[6, 0, 8, 9]\n",
      "[8, 9, 0, 6]\n",
      "[9, 3, 5, 8]\n",
      "[9, 0, 1, 2]\n",
      "[4, 2, 9, 0]\n",
      "[8, 4, 5, 9]\n",
      "[5, 4, 8, 2]\n",
      "[8, 4, 9, 5]\n"
     ]
    }
   ],
   "source": [
    "for _ in range(10):\n",
    "    print(proj_DPP.sample_exact())"
   ]
  },
  {
   "cell_type": "code",
   "execution_count": 6,
   "id": "806d31e3-07db-47e5-a74e-2a1b87a48e78",
   "metadata": {},
   "outputs": [
    {
     "name": "stdout",
     "output_type": "stream",
     "text": [
      "Singleton marginals of r-DPP\n",
      "[0.46237768 0.19153545 0.14362018 0.35755405 0.3285624  0.57936299\n",
      " 0.36354747 0.10670674 0.72441855 0.74231448]\n",
      "\n",
      "\n",
      "Singleton marginals of associated projection DPP\n",
      "K (correlation) kernel computed via:\n",
      "- U diag(eig_K) U.T\n",
      "[0.46237768432712295, 0.19153544729876737, 0.1436201799401688, 0.35755405033623044, 0.3285624024915734, 0.5793629943195351, 0.3635474693958252, 0.1067067424265473, 0.7244185464436639, 0.7423144830205672]\n",
      "\n",
      "\n",
      "Singleton marginals of L-Ensemble\n",
      "K (correlation) kernel computed via:\n",
      "- U diag(eig_K) U.T\n",
      "[0.39764169010097417, 0.14810759300331378, 0.09795840892058154, 0.2766521422307766, 0.27411568458328583, 0.4655643423355296, 0.22148254401284057, 0.09288332535467797, 0.5964582075625253, 0.5749238428848871]\n",
      "\n",
      "\n"
     ]
    }
   ],
   "source": [
    "#Compute singleton marginal of r-DPP using formula (205) of 'DPP for Machine Learning'\n",
    "from dppy.exact_sampling import elementary_symmetric_polynomials\n",
    "e_N_r = elementary_symmetric_polynomials(e_vals, r)[r, N]\n",
    "e_minus_n_r_minus_one = np.array(np.zeros(N))\n",
    "\n",
    "for n in range(N):\n",
    "    e_minus_n_r_minus_one[n] = elementary_symmetric_polynomials(np.concatenate((e_vals[:n], e_vals[n+1:])), r-1)[r-1, N-1]\n",
    "\n",
    "singleton_marginals = np.array(np.zeros(N))\n",
    "for i in range(N):\n",
    "    for n in range(N):\n",
    "        singleton_marginals[i] += e_vecs[i,n]**2*e_vals[n]*e_minus_n_r_minus_one[n]/e_N_r\n",
    "\n",
    "print(\"Singleton marginals of r-DPP\")\n",
    "print(singleton_marginals)\n",
    "print('\\n')\n",
    "\n",
    "print(\"Singleton marginals of associated projection DPP\")\n",
    "proj_DPP.compute_K()\n",
    "print([proj_DPP.K[i,i] for i in range(N)])\n",
    "print('\\n')\n",
    "\n",
    "print('Singleton marginals of L-Ensemble')\n",
    "DPP_L.compute_K()\n",
    "print([DPP_L.K[i,i] for i in range(N)])\n",
    "print('\\n')"
   ]
  },
  {
   "cell_type": "code",
   "execution_count": 7,
   "id": "0c58397b-a00d-4f5e-82cd-459c641e0a02",
   "metadata": {},
   "outputs": [
    {
     "name": "stdout",
     "output_type": "stream",
     "text": [
      "[1.16279982 1.29321828 1.46613427 1.29243189 1.19862679 1.24443163\n",
      " 1.64142719 1.1488256  1.21453362 1.29115272]\n"
     ]
    }
   ],
   "source": [
    "proj_DPP_singleton = np.array([proj_DPP.K[i,i] for i in range(N)])\n",
    "L_ens_singleton = np.array([DPP_L.K[i,i] for i in range(N)])\n",
    "\n",
    "print(proj_DPP_singleton/L_ens_singleton)"
   ]
  }
 ],
 "metadata": {
  "kernelspec": {
   "display_name": "Python 3 (ipykernel)",
   "language": "python",
   "name": "python3"
  },
  "language_info": {
   "codemirror_mode": {
    "name": "ipython",
    "version": 3
   },
   "file_extension": ".py",
   "mimetype": "text/x-python",
   "name": "python",
   "nbconvert_exporter": "python",
   "pygments_lexer": "ipython3",
   "version": "3.8.10"
  }
 },
 "nbformat": 4,
 "nbformat_minor": 5
}

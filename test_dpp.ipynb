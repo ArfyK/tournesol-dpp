{
 "cells": [
  {
   "cell_type": "code",
   "execution_count": 105,
   "id": "fd7f7189-e8c6-4dc9-bfaf-b4384d62347f",
   "metadata": {},
   "outputs": [
    {
     "name": "stdout",
     "output_type": "stream",
     "text": [
      "L_dual = Phi Phi.T was computed: Phi (dxN) with d<N\n"
     ]
    }
   ],
   "source": [
    "import numpy as np\n",
    "from dppy.finite_dpps import FiniteDPP\n",
    "\n",
    "r, N = 4, 10 #r number of features and N number of videos\n",
    "\n",
    "#L-Ensemble of rank r that is not a projection DPP\n",
    "Phi = np.random.randn(r, N)\n",
    "DPP_L = FiniteDPP('likelihood', **{'L_gram_factor': Phi})\n",
    "\n",
    "#Projection DPP with the corresponding previous eigenvectors\n",
    "L = np.matmul(np.transpose(Phi), Phi)\n",
    "e_vals, e_vecs = np.linalg.eigh(L)\n",
    "proj_DPP = FiniteDPP('correlation', projection=True,\n",
    "                    **{'K_eig_dec': (np.concatenate((np.zeros(N-r),np.ones(r))), e_vecs)})"
   ]
  },
  {
   "cell_type": "code",
   "execution_count": 50,
   "id": "145feef2-72cf-43f4-8c8e-6a391cda5b55",
   "metadata": {},
   "outputs": [
    {
     "name": "stdout",
     "output_type": "stream",
     "text": [
      "[5, 9, 6]\n",
      "[0, 9, 1, 4]\n",
      "[9, 4]\n",
      "[9, 1, 3, 6]\n",
      "[6, 1, 0]\n",
      "[5, 6, 4]\n",
      "[8, 3, 0]\n",
      "[5, 0, 2]\n",
      "[1, 9, 4]\n",
      "[4, 9, 1]\n"
     ]
    }
   ],
   "source": [
    "for _ in range(10):\n",
    "    print(DPP_L.sample_exact())"
   ]
  },
  {
   "cell_type": "code",
   "execution_count": 81,
   "id": "113c1be2-dad0-4560-8a54-0a4de58384f5",
   "metadata": {},
   "outputs": [
    {
     "name": "stdout",
     "output_type": "stream",
     "text": [
      "[5, 6, 0, 1]\n",
      "[7, 2, 5, 1]\n",
      "[0, 6, 7, 3]\n",
      "[3, 4, 7, 0]\n",
      "[8, 2, 3, 7]\n",
      "[1, 7, 3, 0]\n",
      "[2, 1, 0, 6]\n",
      "[6, 0, 3, 4]\n",
      "[1, 0, 2, 6]\n",
      "[1, 6, 2, 0]\n"
     ]
    }
   ],
   "source": [
    "for _ in range(10):\n",
    "    print(proj_DPP.sample_exact())"
   ]
  },
  {
   "cell_type": "code",
   "execution_count": 119,
   "id": "806d31e3-07db-47e5-a74e-2a1b87a48e78",
   "metadata": {},
   "outputs": [
    {
     "name": "stdout",
     "output_type": "stream",
     "text": [
      "Singleton marginals of r-DPP\n",
      "[0.74472789 0.6079976  0.28690022 0.42289518 0.31740471 0.21377312\n",
      " 0.47396621 0.26961754 0.27861403 0.38410349]\n",
      "\n",
      "\n",
      "Singleton marginals of associated projection DPP\n",
      "[0.744727894017959, 0.6079975966310457, 0.2869002169268609, 0.42289518443439356, 0.31740470665803167, 0.2137731170898463, 0.47396621345955525, 0.2696175422136192, 0.27861403422870407, 0.3841034943399867]\n",
      "\n",
      "\n",
      "Singleton marginals of L-Ensemble\n",
      "[0.6821750312785398, 0.5774367606066863, 0.2471161199490018, 0.35534135509732373, 0.29500844137922283, 0.18943830447993093, 0.4285562710961981, 0.242537082556097, 0.2600229000260916, 0.36029036757896915]\n",
      "\n",
      "\n"
     ]
    }
   ],
   "source": [
    "#Compute singleton marginal of r-DPP using formula (205) of 'DPP for Machine Learning'\n",
    "from dppy.exact_sampling import elementary_symmetric_polynomials\n",
    "e_N_r = elementary_symmetric_polynomials(e_vals, r)[r, N]\n",
    "e_minus_n_r_minus_one = np.array(np.zeros(N))\n",
    "\n",
    "for n in range(N):\n",
    "    e_minus_n_r_minus_one[n] = elementary_symmetric_polynomials(np.concatenate((e_vals[:n], e_vals[n+1:])), r-1)[r-1, N-1]\n",
    "\n",
    "singleton_marginals = np.array(np.zeros(N))\n",
    "for i in range(N):\n",
    "    for n in range(N):\n",
    "        singleton_marginals[i] += e_vecs[i,n]**2*e_vals[n]*e_minus_n_r_minus_one[n]/e_N_r\n",
    "\n",
    "print(\"Singleton marginals of r-DPP\")\n",
    "print(singleton_marginals)\n",
    "print('\\n')\n",
    "\n",
    "print(\"Singleton marginals of associated projection DPP\")\n",
    "proj_DPP.compute_K()\n",
    "print([proj_DPP.K[i,i] for i in range(N)])\n",
    "print('\\n')\n",
    "\n",
    "print('Singleton marginals of L-Ensemble')\n",
    "DPP_L.compute_K()\n",
    "print([DPP_L.K[i,i] for i in range(N)])\n",
    "print('\\n')"
   ]
  }
 ],
 "metadata": {
  "kernelspec": {
   "display_name": "Python 3 (ipykernel)",
   "language": "python",
   "name": "python3"
  },
  "language_info": {
   "codemirror_mode": {
    "name": "ipython",
    "version": 3
   },
   "file_extension": ".py",
   "mimetype": "text/x-python",
   "name": "python",
   "nbconvert_exporter": "python",
   "pygments_lexer": "ipython3",
   "version": "3.8.10"
  }
 },
 "nbformat": 4,
 "nbformat_minor": 5
}
